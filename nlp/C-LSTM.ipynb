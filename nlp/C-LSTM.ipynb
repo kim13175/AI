{
 "cells": [
  {
   "cell_type": "markdown",
   "metadata": {},
   "source": [
    "### 데이터 셋 선정\n",
    " - imdb 데이터 세트\n",
    " - 인터넷 영화 데이터베이스에서 가져온 5만개의 영화 리뷰 텍스트 포함 \n",
    "    - 훈련용 테스트용 5:5 비율로 나뉨"
   ]
  },
  {
   "cell_type": "code",
   "execution_count": 26,
   "metadata": {},
   "outputs": [],
   "source": [
    "import matplotlib.pyplot as plt\n",
    "import os\n",
    "import re\n",
    "import shutil\n",
    "import string\n",
    "import tensorflow as tf\n",
    "\n",
    "from tensorflow.keras import layers, losses"
   ]
  },
  {
   "cell_type": "markdown",
   "metadata": {},
   "source": [
    "+ get_file : 파일 다운로드, untar (압축 해제)\n",
    "+ os.path.join : 두 번째 인수 명의 디렉토리에 파일 저장"
   ]
  },
  {
   "cell_type": "code",
   "execution_count": 27,
   "metadata": {},
   "outputs": [],
   "source": [
    "'''\n",
    "url = \"https://ai.stanford.edu/~amaas/data/sentiment/aclImdb_v1.tar.gz\"\n",
    "\n",
    "dataset = tf.keras.utils.get_file(\"aclImdb_v1\", url, untar=True, cache_dir='.', cache_subdir='')\n",
    "'''\n",
    "dataset_dir = './aclImdb'"
   ]
  },
  {
   "cell_type": "markdown",
   "metadata": {},
   "source": [
    "<p style=\"font-weight:bold\">트레인 디렉토리</p>"
   ]
  },
  {
   "cell_type": "code",
   "execution_count": 28,
   "metadata": {},
   "outputs": [
    {
     "data": {
      "text/plain": [
       "['labeledBow.feat',\n",
       " 'neg',\n",
       " 'pos',\n",
       " 'unsupBow.feat',\n",
       " 'urls_neg.txt',\n",
       " 'urls_pos.txt',\n",
       " 'urls_unsup.txt']"
      ]
     },
     "execution_count": 28,
     "metadata": {},
     "output_type": "execute_result"
    }
   ],
   "source": [
    "train_dir = os.path.join(dataset_dir, 'train')\n",
    "os.listdir(train_dir)"
   ]
  },
  {
   "cell_type": "markdown",
   "metadata": {},
   "source": [
    "<p style=\"font-weight:bold;\">파일 예시</p>"
   ]
  },
  {
   "cell_type": "code",
   "execution_count": 29,
   "metadata": {},
   "outputs": [
    {
     "name": "stdout",
     "output_type": "stream",
     "text": [
      "Rachel Griffiths writes and directs this award winning short film. A heartwarming story about coping with grief and cherishing the memory of those we've loved and lost. Although, only 15 minutes long, Griffiths manages to capture so much emotion and truth onto film in the short space of time. Bud Tingwell gives a touching performance as Will, a widower struggling to cope with his wife's death. Will is confronted by the harsh reality of loneliness and helplessness as he proceeds to take care of Ruth's pet cow, Tulip. The film displays the grief and responsibility one feels for those they have loved and lost. Good cinematography, great direction, and superbly acted. It will bring tears to all those who have lost a loved one, and survived.\n"
     ]
    }
   ],
   "source": [
    "sample_data = os.path.join(train_dir, 'pos/1181_9.txt')\n",
    "with open(sample_data) as f:\n",
    "    print(f.read())"
   ]
  },
  {
   "cell_type": "markdown",
   "metadata": {},
   "source": [
    "- 추가 폴더 제거"
   ]
  },
  {
   "cell_type": "code",
   "execution_count": 30,
   "metadata": {},
   "outputs": [
    {
     "data": {
      "text/plain": [
       "\"\\nremove_dir = os.path.join(train_dir, 'unsup')\\nshutil.rmtree(remove_dir)\\n\""
      ]
     },
     "execution_count": 30,
     "metadata": {},
     "output_type": "execute_result"
    }
   ],
   "source": [
    "'''\n",
    "remove_dir = os.path.join(train_dir, 'unsup')\n",
    "shutil.rmtree(remove_dir)\n",
    "'''"
   ]
  },
  {
   "cell_type": "markdown",
   "metadata": {},
   "source": [
    "# 데이터 전처리"
   ]
  },
  {
   "cell_type": "markdown",
   "metadata": {},
   "source": [
    "##### 데이터 셋 분할\n",
    " - 8 : 2로 분할\n",
    " - 테스트 셋은 이미지 존재하기에 트레인 셋에서 분리하여 검증 셋을 생성 "
   ]
  },
  {
   "cell_type": "code",
   "execution_count": 31,
   "metadata": {},
   "outputs": [
    {
     "name": "stdout",
     "output_type": "stream",
     "text": [
      "Found 25000 files belonging to 2 classes.\n",
      "Using 20000 files for training.\n",
      "Found 25000 files belonging to 2 classes.\n",
      "Using 5000 files for validation.\n",
      "Found 25000 files belonging to 2 classes.\n"
     ]
    }
   ],
   "source": [
    "batch_size = 32\n",
    "seed = 42\n",
    "\n",
    "train_data = tf.keras.utils.text_dataset_from_directory('aclImdb/train',\n",
    "                                                       batch_size=batch_size,\n",
    "                                                       validation_split=0.2,\n",
    "                                                       subset='training',\n",
    "                                                       seed=seed)\n",
    "\n",
    "valid_data = tf.keras.utils.text_dataset_from_directory('aclImdb/train',\n",
    "                                                       batch_size=batch_size,\n",
    "                                                       validation_split=0.2,\n",
    "                                                       subset='validation',\n",
    "                                                       seed=seed)\n",
    "test_data = tf.keras.utils.text_dataset_from_directory('aclImdb/test',\n",
    "                                                      batch_size=batch_size)"
   ]
  },
  {
   "cell_type": "markdown",
   "metadata": {},
   "source": [
    "- 구두 점 등의 특수 문자와 대문자가 혼합되어 있는 것을 확인 -> 텍스트 정제 "
   ]
  },
  {
   "cell_type": "code",
   "execution_count": 32,
   "metadata": {},
   "outputs": [
    {
     "name": "stdout",
     "output_type": "stream",
     "text": [
      "Review b'\"Pandemonium\" is a horror movie spoof that comes off more stupid than funny. Believe me when I tell you, I love comedies. Especially comedy spoofs. \"Airplane\", \"The Naked Gun\" trilogy, \"Blazing Saddles\", \"High Anxiety\", and \"Spaceballs\" are some of my favorite comedies that spoof a particular genre. \"Pandemonium\" is not up there with those films. Most of the scenes in this movie had me sitting there in stunned silence because the movie wasn\\'t all that funny. There are a few laughs in the film, but when you watch a comedy, you expect to laugh a lot more than a few times and that\\'s all this film has going for it. Geez, \"Scream\" had more laughs than this film and that was more of a horror film. How bizarre is that?<br /><br />*1/2 (out of four)'\n",
      "Label 0\n",
      "Review b\"David Mamet is a very interesting and a very un-equal director. His first movie 'House of Games' was the one I liked best, and it set a series of films with characters whose perspective of life changes as they get into complicated situations, and so does the perspective of the viewer.<br /><br />So is 'Homicide' which from the title tries to set the mind of the viewer to the usual crime drama. The principal characters are two cops, one Jewish and one Irish who deal with a racially charged area. The murder of an old Jewish shop owner who proves to be an ancient veteran of the Israeli Independence war triggers the Jewish identity in the mind and heart of the Jewish detective.<br /><br />This is were the flaws of the film are the more obvious. The process of awakening is theatrical and hard to believe, the group of Jewish militants is operatic, and the way the detective eventually walks to the final violent confrontation is pathetic. The end of the film itself is Mamet-like smart, but disappoints from a human emotional perspective.<br /><br />Joe Mantegna and William Macy give strong performances, but the flaws of the story are too evident to be easily compensated.\"\n",
      "Label 0\n",
      "Review b'Great documentary about the lives of NY firefighters during the worst terrorist attack of all time.. That reason alone is why this should be a must see collectors item.. What shocked me was not only the attacks, but the\"High Fat Diet\" and physical appearance of some of these firefighters. I think a lot of Doctors would agree with me that,in the physical shape they were in, some of these firefighters would NOT of made it to the 79th floor carrying over 60 lbs of gear. Having said that i now have a greater respect for firefighters and i realize becoming a firefighter is a life altering job. The French have a history of making great documentary\\'s and that is what this is, a Great Documentary.....'\n",
      "Label 1\n",
      "<TakeDataset element_spec=(TensorSpec(shape=(None,), dtype=tf.string, name=None), TensorSpec(shape=(None,), dtype=tf.int32, name=None))>\n"
     ]
    }
   ],
   "source": [
    "for text_batch, label_batch in train_data.take(1):\n",
    "  for i in range(3):\n",
    "    print(\"Review\", text_batch.numpy()[i])\n",
    "    print(\"Label\", label_batch.numpy()[i])\n",
    "\n",
    "print(train_data.take(1))"
   ]
  },
  {
   "cell_type": "markdown",
   "metadata": {},
   "source": [
    "##### 텍스트 데이터 표준화 -> 텍스트 데이터 전처리"
   ]
  },
  {
   "cell_type": "code",
   "execution_count": 33,
   "metadata": {},
   "outputs": [],
   "source": [
    "# 소문자 변환, html 태그 제거, 구두점 제거\n",
    "def standardization(data):\n",
    "    lower_data = tf.strings.lower(data)\n",
    "    stripped_html = tf.strings.regex_replace(lower_data, '<br />', ' ')\n",
    "    return tf.strings.regex_replace(stripped_html, '[%s]' % re.escape(string.punctuation), '')"
   ]
  },
  {
   "cell_type": "markdown",
   "metadata": {},
   "source": [
    "##### TextVectorization 레이어 생성\n",
    " - 각 토큰에 고유한 정수 인덱스 생성 output_mode => int\n",
    " - 텍스트 특징을 정수 시퀀스에 매핑하는 전처리 계층"
   ]
  },
  {
   "cell_type": "code",
   "execution_count": 34,
   "metadata": {},
   "outputs": [
    {
     "name": "stdout",
     "output_type": "stream",
     "text": [
      "<MapDataset element_spec=TensorSpec(shape=(None,), dtype=tf.string, name=None)>\n"
     ]
    }
   ],
   "source": [
    "max_features = 10000\n",
    "sequence_length = 250\n",
    "\n",
    "vectorize_layer = layers.TextVectorization(\n",
    "    standardize=standardization,\n",
    "    max_tokens = max_features,\n",
    "    output_mode='int',\n",
    "    output_sequence_length=sequence_length\n",
    ")\n",
    "\n",
    "train_txt = train_data.map(lambda x, y: x)\n",
    "vectorize_layer.adapt(train_txt)\n",
    "\n",
    "def vectorize_txt(text, label):\n",
    "    text = tf.expand_dims(text, -1)\n",
    "    return vectorize_layer(text), label\n",
    "\n",
    "print(train_txt)"
   ]
  },
  {
   "cell_type": "code",
   "execution_count": 35,
   "metadata": {},
   "outputs": [
    {
     "name": "stdout",
     "output_type": "stream",
     "text": [
      "Review tf.Tensor(b\"While the overall idea of Escape from Atlantis was intriguing, I found the film to be far less than what I had hoped for upon reading the plot summery. Perhaps I am too much of a child in the technological age: the movie was made, as it is now 2002, an official five years ago --after viewing fantasy epics such as Lord of the Rings, and science fiction feats like Star Wars, as a whole it could not compare to other movies of similar line such as Dinotopia or Homer's The Odyssey.<br /><br />My beef, basically, is that I couldn't relate --I am just about the same age of the children (a young adult), and have no trouble putting myself in the place of a middle-aged man if that is the character available. But the picture did not take me to a different mental plain of existence. I didn't find myself saying 'ACK! I would have done the SAME thing!'. It did not open the doors to my imagination. Even without comparing it to high-budget films or other TV movies, standing alone, certain aspects of the feature I found to be cliche: The character development in the children occurred too rapidly for my liking, seeing too much of the stereotypical selfish-teenager-bitter-after-divorce image changing into the we're-a-big-happy-family-let's-never-separate-again feel that can ultimately make or break a picture in the long run. Even the characters themselves could have undergone improvement: a typical set of one or the other stereotypes. There was the ever-present selfish beauty looking to be rebellious, accompanied by Mr. Perfect image of combining athletics, good looks and intelligence yet a brooding attitude, and lastly the smart-aleck little brother we find to be so common these days. While I know the personalities pushed the story along, I think that adding more individuality as far as nuances and more unique differences would have made it a more enjoyable --and believable (as far as character)-- movie.<br /><br />I do have to raise my glass to the costume and set design --that made it worth finishing to the end for me. Don't get me wrong: all movies are worth seeing for yourself, and the opinion of one could never account for the opinion of many, but I think that with a little more depth to the script, and a little more (I cannot believe I am saying this) realness I dare say Escape from Atlantis could have been magical.\", shape=(), dtype=string)\n",
      "Label neg\n",
      "Vectorized review (<tf.Tensor: shape=(1, 250), dtype=int64, numpy=\n",
      "array([[ 132,    2,  431,  314,    5, 1045,   35, 3584,   13, 1751,   10,\n",
      "         251,    2,   19,    6,   26,  231,  322,   70,   48,   10,   66,\n",
      "        3352,   15,  718,  891,    2,  111,    1,  373,   10,  237,   99,\n",
      "          72,    5,    4,  537,    8,    2,    1,  588,    2,   17,   13,\n",
      "          90,   14,    9,    7,  148, 3948,   33, 3764,  713,  149,  589,\n",
      "         101,  823,  971, 7803,  135,   14, 1600,    5,    2, 2460,    3,\n",
      "        1117, 1324,    1,   38,  326, 1598,   14,    4,  211,    9,   98,\n",
      "          21, 1555,    6,   78,   91,    5,  697,  356,  135,   14,    1,\n",
      "          41,    1,    2, 6496,   54, 9401,  658,    7,   12,   10,  403,\n",
      "        2133,   10,  237,   40,   42,    2,  164,  588,    5,    2,  457,\n",
      "           4,  181, 1109,    3,   25,   57, 1082, 1501,  535,    8,    2,\n",
      "         265,    5,    4, 4830,  130,   45,   12,    7,    2,  106, 1405,\n",
      "          18,    2,  430,  117,   21,  190,   69,    6,    4,  263, 1663,\n",
      "        1029,    5, 2036,   10,  152,  163,  535,  646,    1,   10,   59,\n",
      "          25,  223,    2,  164,  150,    9,  117,   21,  959,    2, 3413,\n",
      "           6,   54, 1447,   53,  202, 4299,    9,    6,    1,   94,   41,\n",
      "          78,  243,   91, 2003,  579,  780, 1362,    5,    2,  782,   10,\n",
      "         251,    6,   26, 4682,    2,  106,  918,    8,    2,  457, 3667,\n",
      "          99, 6482,   15,   54, 3735,  311,   99,   72,    5,    2, 2776,\n",
      "           1, 1475, 2490,   81,    2,    1,  232,   12,   68, 1106,   96,\n",
      "          41,  999,    4,  430,    8,    2,  209,  530,   53,    2,  100,\n",
      "         513,   98,   25,    1, 5126,    4,  769,  286,    5,   28,   41,\n",
      "           2,   78, 2054,   47,   13,    2,    1, 3831]], dtype=int64)>, <tf.Tensor: shape=(), dtype=int32, numpy=0>)\n"
     ]
    }
   ],
   "source": [
    "# retrieve a batch (of 32 reviews and labels) from the dataset\n",
    "text_batch, label_batch = next(iter(train_data))\n",
    "\n",
    "def check_data(text_batch, label_batch, idx):\n",
    "    ex_review, ex_label = text_batch[idx], label_batch[idx]\n",
    "    print(\"Review\", ex_review)\n",
    "    print(\"Label\", train_data.class_names[ex_label])\n",
    "    print(\"Vectorized review\", vectorize_txt(ex_review, ex_label))\n",
    "\n",
    "check_data(text_batch, label_batch, 10)"
   ]
  },
  {
   "cell_type": "markdown",
   "metadata": {},
   "source": [
    "> .cache() : 변환된 데이터셋을 메모리 또는 로컬 저장소에 캐시 가능  \n",
    "> .prefetch() : 데이터가 생성되는 시간과 데이터가 소비되는 시간 분리, 내부 버퍼를 사용하여 요청된 시간보다 앞서\n",
    "입력 데이터세트에서 요소를 미리 가져옴 (AUTOTUNE : 런타임에 값을 동적으로 조정)"
   ]
  },
  {
   "cell_type": "markdown",
   "metadata": {},
   "source": [
    "### 훈련 시킬 데이터 셋 설정"
   ]
  },
  {
   "cell_type": "code",
   "execution_count": 36,
   "metadata": {},
   "outputs": [],
   "source": [
    "train_set = train_data.map(vectorize_txt)\n",
    "valid_set = valid_data.map(vectorize_txt)\n",
    "test_set = test_data.map(vectorize_txt)\n",
    "\n",
    "# 입출력 차단 방치 \n",
    "AUTOTUNE = tf.data.AUTOTUNE\n",
    "\n",
    "train_set = train_set.cache().prefetch(buffer_size=AUTOTUNE)\n",
    "valid_set = valid_set.cache().prefetch(buffer_size=AUTOTUNE)\n",
    "test_set = test_set.cache().prefetch(buffer_size=AUTOTUNE)\n"
   ]
  },
  {
   "cell_type": "markdown",
   "metadata": {},
   "source": [
    "### 기본 모델 구현"
   ]
  },
  {
   "cell_type": "code",
   "execution_count": 37,
   "metadata": {},
   "outputs": [
    {
     "name": "stdout",
     "output_type": "stream",
     "text": [
      "Model: \"sequential_1\"\n",
      "_________________________________________________________________\n",
      " Layer (type)                Output Shape              Param #   \n"
     ]
    },
    {
     "name": "stdout",
     "output_type": "stream",
     "text": [
      "=================================================================\n",
      " embedding_2 (Embedding)     (None, None, 250)         2500250   \n",
      "                                                                 \n",
      " dropout_3 (Dropout)         (None, None, 250)         0         \n",
      "                                                                 \n",
      " global_average_pooling1d_1   (None, 250)              0         \n",
      " (GlobalAveragePooling1D)                                        \n",
      "                                                                 \n",
      " dropout_4 (Dropout)         (None, 250)               0         \n",
      "                                                                 \n",
      " dense_2 (Dense)             (None, 1)                 251       \n",
      "                                                                 \n",
      "=================================================================\n",
      "Total params: 2,500,501\n",
      "Trainable params: 2,500,501\n",
      "Non-trainable params: 0\n",
      "_________________________________________________________________\n"
     ]
    }
   ],
   "source": [
    "from keras.models import Sequential\n",
    "from keras.layers import Dense, GlobalAveragePooling1D, Dropout, Embedding\n",
    "\n",
    "'''\n",
    "model = tf.keras.Sequential([\n",
    "    layers.Embedding(max_features+1, embedding_dims),\n",
    "    layers.Dropout(0.2),\n",
    "    layers.GlobalAveragePooling1D(),\n",
    "    layers.Dropout(0.2),\n",
    "    layers.Dense(1)\n",
    "])\n",
    "'''\n",
    "\n",
    "sequence_len = 250\n",
    "\n",
    "def embedding_model(max_feature, embedding_dim):\n",
    "    model = Sequential()\n",
    "    model.add(Embedding(max_feature+1, embedding_dim))\n",
    "    model.add(Dropout(0.2))\n",
    "    model.add(GlobalAveragePooling1D())\n",
    "    model.add(Dropout(0.2))\n",
    "    model.add(Dense(1))\n",
    "\n",
    "    return model\n",
    "\n",
    "base_model = embedding_model(max_features, sequence_len)\n",
    "\n",
    "base_model.summary()"
   ]
  },
  {
   "cell_type": "markdown",
   "metadata": {},
   "source": [
    "### 기본 모델 훈련"
   ]
  },
  {
   "cell_type": "code",
   "execution_count": 38,
   "metadata": {},
   "outputs": [],
   "source": [
    "base_model.compile(loss=losses.BinaryCrossentropy(from_logits=True),\n",
    "                   optimizer='adam',\n",
    "                   metrics=['accuracy'])"
   ]
  },
  {
   "cell_type": "code",
   "execution_count": 39,
   "metadata": {},
   "outputs": [
    {
     "data": {
      "text/plain": [
       "'epochs=50\\n\\nrecord_base = base_model.fit(\\n    train_set,\\n    validation_data=valid_set,\\n    epochs=epochs\\n)'"
      ]
     },
     "execution_count": 39,
     "metadata": {},
     "output_type": "execute_result"
    }
   ],
   "source": [
    "'''epochs=50\n",
    "\n",
    "record_base = base_model.fit(\n",
    "    train_set,\n",
    "    validation_data=valid_set,\n",
    "    epochs=epochs\n",
    ")'''"
   ]
  },
  {
   "cell_type": "code",
   "execution_count": 40,
   "metadata": {},
   "outputs": [],
   "source": [
    "def draw_graph(history, name):\n",
    "    fig, ax1 = plt.subplots()\n",
    "\n",
    "    plt.title(name + ' acc evaluate')\n",
    "    ax1.set_xlabel('Epoch')\n",
    "    ax1.set_ylabel('accuracy')\n",
    "    ax1.plot(history.history['accuracy'], color='blue')\n",
    "    ax1.plot(history.history['val_accuracy'],color='red')\n",
    "    ax1.tick_params(axis='y',)\n",
    "    ax1.legend(['acc', 'val_acc'], loc='upper left')\n",
    "\n",
    "    ax2 = ax1.twinx()  # x축을 공유하는 두 번째 축을 생성합니다.\n",
    "\n",
    "    ax2.set_ylabel('loss')\n",
    "    ax2.plot(history.history['loss'], color='blue', linestyle='dashed')\n",
    "    ax2.plot(history.history['val_loss'], color='red', linestyle='dashed')\n",
    "    ax2.tick_params(axis='y')\n",
    "    ax2.legend(['loss', 'val_loss'], loc='upper right')\n",
    "\n",
    "    fig.tight_layout()  # 그래프가 겹치지 않도록 레이아웃을 조정합니다.\n",
    "    plt.show()\n"
   ]
  },
  {
   "cell_type": "code",
   "execution_count": 41,
   "metadata": {},
   "outputs": [],
   "source": [
    "from tensorflow.keras.layers import Bidirectional, BatchNormalization, Dropout, LSTM \n",
    "\n",
    "class medical_LSTM(tf.keras.Model):\n",
    "    def __init__(self,max_feature, embedding_dim, lstm_units, dense_output_dim, dropout_rate, l2_reg_rate):\n",
    "        super(medical_LSTM, self).__init__()\n",
    "\n",
    "        self.embedding = Embedding(max_feature+1, embedding_dim)\n",
    "\n",
    "        self.first_lstm = Bidirectional(LSTM(lstm_units, dropout=dropout_rate, return_sequences=True))\n",
    "\n",
    "        self.dropout = Dropout(dropout_rate)\n",
    "        \n",
    "        self.batch_normalization = BatchNormalization()\n",
    "\n",
    "        self.last_lstm = Bidirectional(LSTM(lstm_units, dropout=dropout_rate, return_sequences=False))\n",
    "\n",
    "        self.last_dense = Dense(dense_output_dim, activation='sigmoid', kernel_regularizer=tf.keras.regularizers.l2(l2_reg_rate))\n",
    "    \n",
    "    def call(self, inputs):\n",
    "\n",
    "        inputs = tf.cast(inputs, dtype=tf.float32)\n",
    "\n",
    "        embedding_ouput = self.embedding(inputs)\n",
    "\n",
    "        first_lstm_output = self.first_lstm(embedding_ouput)\n",
    "\n",
    "        dropout_output = self.dropout(first_lstm_output)\n",
    "\n",
    "        normalized_output = self.batch_normalization(dropout_output)\n",
    "\n",
    "        last_lstm_output = self.last_lstm(normalized_output)\n",
    "\n",
    "        last_dense_outputs = self.last_dense(last_lstm_output)\n",
    "\n",
    "        return last_dense_outputs      "
   ]
  },
  {
   "cell_type": "code",
   "execution_count": 42,
   "metadata": {},
   "outputs": [
    {
     "name": "stdout",
     "output_type": "stream",
     "text": [
      "Model: \"medical_lstm_1\"\n",
      "_________________________________________________________________\n",
      " Layer (type)                Output Shape              Param #   \n",
      "=================================================================\n",
      " embedding_3 (Embedding)     multiple                  320032    \n",
      "                                                                 \n",
      " bidirectional_2 (Bidirectio  multiple                 99072     \n",
      " nal)                                                            \n",
      "                                                                 \n",
      " dropout_5 (Dropout)         multiple                  0         \n",
      "                                                                 \n",
      " batch_normalization_1 (Batc  multiple                 768       \n",
      " hNormalization)                                                 \n",
      "                                                                 \n",
      " bidirectional_3 (Bidirectio  multiple                 221952    \n",
      " nal)                                                            \n",
      "                                                                 \n",
      " dense_3 (Dense)             multiple                  193       \n",
      "                                                                 \n",
      "=================================================================\n",
      "Total params: 642,017\n",
      "Trainable params: 641,633\n",
      "Non-trainable params: 384\n",
      "_________________________________________________________________\n"
     ]
    }
   ],
   "source": [
    "from tensorflow.keras.optimizers import Adam\n",
    "\n",
    "lstm_units = 96\n",
    "final_output_dim = 1\n",
    "dropout_rate = 0.4\n",
    "optimizer = Adam(learning_rate=0.004)\n",
    "embedding_dims = 32\n",
    "\n",
    "sequence_len = 250\n",
    "features = 10000\n",
    "\n",
    "model = medical_LSTM(\n",
    "            max_feature=max_features,\n",
    "            embedding_dim = embedding_dims,\n",
    "            lstm_units = lstm_units, \n",
    "            dense_output_dim = final_output_dim,\n",
    "            dropout_rate= dropout_rate,\n",
    "            l2_reg_rate=0.0041)\n",
    "\n",
    "model.compile(optimizer = optimizer, loss=losses.BinaryCrossentropy(from_logits=True), metrics=['accuracy'])\n",
    "model.build(input_shape=[max_features, sequence_len])\n",
    "model.summary()"
   ]
  },
  {
   "cell_type": "code",
   "execution_count": 43,
   "metadata": {},
   "outputs": [
    {
     "data": {
      "text/plain": [
       "'tuner = Hyperband(\\n    build_model,\\n    objective=\\'val_accuracy\\',\\n    max_epochs=5,\\n    directory=\\'hyperband\\',\\n    project_name=\\'medical_LSTM\\'\\n)\\n\\ntuner.search(train_set, epochs=10, validation_data=valid_set)\\nbest_hp = tuner.get_best_hyperparameters(num_trials = 1)[0]\\n\\nprint(f\"lstm 유닛 수 : {best_hp.get(\\'lstm_units\\')}\")\\nprint(f\"dropout_rate : {best_hp.get(\\'dropout_rate\\')}\")\\nprint(f\"l2_reg_rate : {best_hp.get(\\'l2_reg_rate\\')}\")\\nprint(best_hp.get(\\'max_features\\'))\\nprint(best_hp.get(\\'embedding_dims\\'))'"
      ]
     },
     "execution_count": 43,
     "metadata": {},
     "output_type": "execute_result"
    }
   ],
   "source": [
    "from tensorflow.keras.wrappers.scikit_learn import KerasClassifier\n",
    "from kerastuner.tuners import Hyperband\n",
    "\n",
    "def build_model(hp):\n",
    "    model = medical_LSTM(\n",
    "        max_feature= hp.Int('max_features', min_value=1000, max_value= max_features, step=1000),\n",
    "        embedding_dim= hp.Int('embedding_dims', min_value=16, max_value=32, step=16),\n",
    "        lstm_units=hp.Int('lstm_units', min_value=32, max_value=256, step=32),\n",
    "        dense_input_dim=hp.Int('dense_input_dim', min_value=32, max_value=256, step=32),\n",
    "        dense_output_dim=1,\n",
    "        dropout_rate=hp.Float('dropout_rate', min_value=0.3, max_value=0.5, step=0.01),\n",
    "        l2_reg_rate=hp.Float('l2_reg_rate', min_value=0.001, max_value=0.01, step=0.001)\n",
    "    )\n",
    "    model.compile(optimizer='adam', loss='binary_crossentropy', metrics=['accuracy'])\n",
    "    return model\n",
    "\n",
    "'''tuner = Hyperband(\n",
    "    build_model,\n",
    "    objective='val_accuracy',\n",
    "    max_epochs=5,\n",
    "    directory='hyperband',\n",
    "    project_name='medical_LSTM'\n",
    ")\n",
    "\n",
    "tuner.search(train_set, epochs=10, validation_data=valid_set)\n",
    "best_hp = tuner.get_best_hyperparameters(num_trials = 1)[0]\n",
    "\n",
    "print(f\"lstm 유닛 수 : {best_hp.get('lstm_units')}\")\n",
    "print(f\"dropout_rate : {best_hp.get('dropout_rate')}\")\n",
    "print(f\"l2_reg_rate : {best_hp.get('l2_reg_rate')}\")\n",
    "print(best_hp.get('max_features'))\n",
    "print(best_hp.get('embedding_dims'))'''"
   ]
  },
  {
   "cell_type": "code",
   "execution_count": 44,
   "metadata": {},
   "outputs": [
    {
     "name": "stdout",
     "output_type": "stream",
     "text": [
      "Epoch 1/50\n"
     ]
    },
    {
     "name": "stderr",
     "output_type": "stream",
     "text": [
      "c:\\Users\\Administrator\\AppData\\Roaming\\Python\\lib\\site-packages\\tensorflow\\python\\util\\dispatch.py:1082: UserWarning: \"`binary_crossentropy` received `from_logits=True`, but the `output` argument was produced by a sigmoid or softmax activation and thus does not represent logits. Was this intended?\"\n",
      "  return dispatch_target(*args, **kwargs)\n"
     ]
    },
    {
     "name": "stdout",
     "output_type": "stream",
     "text": [
      "625/625 [==============================] - 28s 40ms/step - loss: 0.6152 - accuracy: 0.6511 - val_loss: 0.6762 - val_accuracy: 0.6332\n",
      "Epoch 2/50\n",
      "625/625 [==============================] - 24s 38ms/step - loss: 0.3868 - accuracy: 0.8357 - val_loss: 0.4276 - val_accuracy: 0.8148\n",
      "Epoch 3/50\n",
      "625/625 [==============================] - 24s 38ms/step - loss: 0.3234 - accuracy: 0.8653 - val_loss: 0.4184 - val_accuracy: 0.8262\n",
      "Epoch 4/50\n",
      "625/625 [==============================] - 25s 40ms/step - loss: 0.2871 - accuracy: 0.8833 - val_loss: 0.3981 - val_accuracy: 0.8408\n",
      "Epoch 5/50\n",
      "625/625 [==============================] - 38s 61ms/step - loss: 0.2618 - accuracy: 0.8975 - val_loss: 0.6343 - val_accuracy: 0.7164\n",
      "Epoch 6/50\n",
      "625/625 [==============================] - 37s 59ms/step - loss: 0.2335 - accuracy: 0.9136 - val_loss: 0.3794 - val_accuracy: 0.8534\n",
      "Epoch 7/50\n",
      "625/625 [==============================] - 24s 39ms/step - loss: 0.2021 - accuracy: 0.9255 - val_loss: 0.3761 - val_accuracy: 0.8564\n",
      "Epoch 8/50\n",
      "625/625 [==============================] - 24s 39ms/step - loss: 0.1910 - accuracy: 0.9309 - val_loss: 0.4318 - val_accuracy: 0.7908\n",
      "Epoch 9/50\n",
      "625/625 [==============================] - 24s 38ms/step - loss: 0.2113 - accuracy: 0.9118 - val_loss: 0.4432 - val_accuracy: 0.8416\n",
      "Epoch 10/50\n",
      "625/625 [==============================] - 29s 46ms/step - loss: 0.1771 - accuracy: 0.9334 - val_loss: 0.3983 - val_accuracy: 0.8498\n",
      "Epoch 11/50\n",
      "625/625 [==============================] - 32s 52ms/step - loss: 0.1658 - accuracy: 0.9388 - val_loss: 0.4028 - val_accuracy: 0.8432\n",
      "Epoch 12/50\n",
      "625/625 [==============================] - 33s 52ms/step - loss: 0.1426 - accuracy: 0.9519 - val_loss: 0.3736 - val_accuracy: 0.8542\n",
      "Epoch 13/50\n",
      "625/625 [==============================] - 24s 38ms/step - loss: 0.1254 - accuracy: 0.9572 - val_loss: 0.3861 - val_accuracy: 0.8514\n",
      "Epoch 14/50\n",
      "625/625 [==============================] - 24s 38ms/step - loss: 0.1190 - accuracy: 0.9603 - val_loss: 0.4396 - val_accuracy: 0.8460\n",
      "Epoch 15/50\n",
      "625/625 [==============================] - 24s 39ms/step - loss: 0.1103 - accuracy: 0.9639 - val_loss: 0.4524 - val_accuracy: 0.8488\n",
      "Epoch 16/50\n",
      "625/625 [==============================] - 24s 39ms/step - loss: 0.1149 - accuracy: 0.9603 - val_loss: 0.4713 - val_accuracy: 0.8494\n",
      "Epoch 17/50\n",
      "625/625 [==============================] - 24s 39ms/step - loss: 0.0994 - accuracy: 0.9678 - val_loss: 0.4289 - val_accuracy: 0.8478\n",
      "Epoch 18/50\n",
      "625/625 [==============================] - 25s 39ms/step - loss: 0.0906 - accuracy: 0.9710 - val_loss: 0.4685 - val_accuracy: 0.8496\n",
      "Epoch 19/50\n",
      "625/625 [==============================] - 24s 39ms/step - loss: 0.0820 - accuracy: 0.9745 - val_loss: 0.4845 - val_accuracy: 0.8544\n",
      "Epoch 20/50\n",
      "625/625 [==============================] - 24s 39ms/step - loss: 0.0836 - accuracy: 0.9744 - val_loss: 0.5086 - val_accuracy: 0.8482\n",
      "Epoch 21/50\n",
      "625/625 [==============================] - 24s 39ms/step - loss: 0.0713 - accuracy: 0.9796 - val_loss: 0.6037 - val_accuracy: 0.8524\n",
      "Epoch 22/50\n",
      "625/625 [==============================] - 24s 39ms/step - loss: 0.0768 - accuracy: 0.9765 - val_loss: 0.5106 - val_accuracy: 0.8524\n",
      "Epoch 23/50\n",
      "625/625 [==============================] - 24s 39ms/step - loss: 0.0708 - accuracy: 0.9786 - val_loss: 0.4816 - val_accuracy: 0.8458\n",
      "Epoch 24/50\n",
      "625/625 [==============================] - 24s 39ms/step - loss: 0.0708 - accuracy: 0.9789 - val_loss: 0.5291 - val_accuracy: 0.8494\n",
      "Epoch 25/50\n",
      "625/625 [==============================] - 24s 39ms/step - loss: 0.0748 - accuracy: 0.9769 - val_loss: 0.5150 - val_accuracy: 0.8370\n",
      "Epoch 26/50\n",
      "625/625 [==============================] - 24s 39ms/step - loss: 0.0728 - accuracy: 0.9786 - val_loss: 0.5940 - val_accuracy: 0.8500\n",
      "Epoch 27/50\n",
      "625/625 [==============================] - 24s 39ms/step - loss: 0.0651 - accuracy: 0.9807 - val_loss: 0.5577 - val_accuracy: 0.8506\n",
      "Epoch 28/50\n",
      "625/625 [==============================] - 24s 39ms/step - loss: 0.0881 - accuracy: 0.9714 - val_loss: 0.5053 - val_accuracy: 0.8114\n",
      "Epoch 29/50\n",
      "625/625 [==============================] - 24s 39ms/step - loss: 0.0811 - accuracy: 0.9744 - val_loss: 0.5818 - val_accuracy: 0.8400\n",
      "Epoch 30/50\n",
      "625/625 [==============================] - 24s 39ms/step - loss: 0.0652 - accuracy: 0.9808 - val_loss: 0.5943 - val_accuracy: 0.8488\n",
      "Epoch 31/50\n",
      "625/625 [==============================] - 24s 39ms/step - loss: 0.0569 - accuracy: 0.9839 - val_loss: 0.5935 - val_accuracy: 0.8520\n",
      "Epoch 32/50\n",
      "625/625 [==============================] - 29s 46ms/step - loss: 0.0561 - accuracy: 0.9834 - val_loss: 0.5546 - val_accuracy: 0.8542\n",
      "Epoch 33/50\n",
      "625/625 [==============================] - 38s 61ms/step - loss: 0.0568 - accuracy: 0.9832 - val_loss: 0.6108 - val_accuracy: 0.8412\n",
      "Epoch 34/50\n",
      "625/625 [==============================] - 38s 61ms/step - loss: 0.0565 - accuracy: 0.9826 - val_loss: 0.5266 - val_accuracy: 0.8496\n",
      "Epoch 35/50\n",
      "625/625 [==============================] - 38s 60ms/step - loss: 0.0479 - accuracy: 0.9861 - val_loss: 0.6411 - val_accuracy: 0.8454\n",
      "Epoch 36/50\n",
      "625/625 [==============================] - 38s 61ms/step - loss: 0.0535 - accuracy: 0.9833 - val_loss: 0.6439 - val_accuracy: 0.8476\n",
      "Epoch 37/50\n",
      "625/625 [==============================] - 38s 61ms/step - loss: 0.0516 - accuracy: 0.9850 - val_loss: 0.6205 - val_accuracy: 0.8436\n",
      "Epoch 38/50\n",
      "625/625 [==============================] - 38s 61ms/step - loss: 0.0451 - accuracy: 0.9879 - val_loss: 0.5731 - val_accuracy: 0.8470\n",
      "Epoch 39/50\n",
      "625/625 [==============================] - 38s 61ms/step - loss: 0.0484 - accuracy: 0.9854 - val_loss: 0.5765 - val_accuracy: 0.8504\n",
      "Epoch 40/50\n",
      "625/625 [==============================] - 38s 61ms/step - loss: 0.0468 - accuracy: 0.9868 - val_loss: 0.5720 - val_accuracy: 0.8396\n",
      "Epoch 41/50\n",
      "625/625 [==============================] - 38s 61ms/step - loss: 0.0495 - accuracy: 0.9854 - val_loss: 0.4873 - val_accuracy: 0.8374\n",
      "Epoch 42/50\n",
      "625/625 [==============================] - 38s 61ms/step - loss: 0.0552 - accuracy: 0.9829 - val_loss: 0.5829 - val_accuracy: 0.8436\n",
      "Epoch 43/50\n",
      "625/625 [==============================] - 29s 46ms/step - loss: 0.0511 - accuracy: 0.9858 - val_loss: 0.5968 - val_accuracy: 0.8448\n",
      "Epoch 44/50\n",
      "625/625 [==============================] - 24s 38ms/step - loss: 0.0485 - accuracy: 0.9858 - val_loss: 0.5788 - val_accuracy: 0.8482\n",
      "Epoch 45/50\n",
      "625/625 [==============================] - 24s 38ms/step - loss: 0.0512 - accuracy: 0.9848 - val_loss: 0.5665 - val_accuracy: 0.8438\n",
      "Epoch 46/50\n",
      "625/625 [==============================] - 30s 48ms/step - loss: 0.0421 - accuracy: 0.9882 - val_loss: 0.6005 - val_accuracy: 0.8362\n",
      "Epoch 47/50\n",
      "625/625 [==============================] - 38s 61ms/step - loss: 0.0399 - accuracy: 0.9897 - val_loss: 0.5725 - val_accuracy: 0.8422\n",
      "Epoch 48/50\n",
      "625/625 [==============================] - 38s 61ms/step - loss: 0.0420 - accuracy: 0.9886 - val_loss: 0.6088 - val_accuracy: 0.8392\n",
      "Epoch 49/50\n",
      "625/625 [==============================] - 39s 63ms/step - loss: 0.0429 - accuracy: 0.9879 - val_loss: 0.5450 - val_accuracy: 0.8418\n",
      "Epoch 50/50\n",
      "625/625 [==============================] - 38s 61ms/step - loss: 0.0481 - accuracy: 0.9861 - val_loss: 0.6129 - val_accuracy: 0.8438\n"
     ]
    }
   ],
   "source": [
    "from keras.callbacks import EarlyStopping\n",
    "\n",
    "early_stopping = EarlyStopping(monitor='val_loss', patience=10, restore_best_weights=True)\n",
    "\n",
    "my_record = model.fit(\n",
    "    train_set,\n",
    "    validation_data=valid_set,\n",
    "    epochs=50,\n",
    "    callbacks=[early_stopping]\n",
    ")"
   ]
  },
  {
   "cell_type": "code",
   "execution_count": 48,
   "metadata": {},
   "outputs": [
    {
     "data": {
      "image/png": "[encoded data removed]",
      "text/plain": [
       "<Figure size 640x480 with 2 Axes>"
      ]
     },
     "metadata": {},
     "output_type": "display_data"
    }
   ],
   "source": [
    "draw_graph(my_record, 'My model')"
   ]
  },
  {
   "cell_type": "code",
   "execution_count": null,
   "metadata": {},
   "outputs": [],
   "source": []
  }
 ],
 "metadata": {
  "kernelspec": {
   "display_name": "Python 3",
   "language": "python",
   "name": "python3"
  },
  "language_info": {
   "codemirror_mode": {
    "name": "ipython",
    "version": 3
   },
   "file_extension": ".py",
   "mimetype": "text/x-python",
   "name": "python",
   "nbconvert_exporter": "python",
   "pygments_lexer": "ipython3",
   "version": "3.10.0"
  }
 },
 "nbformat": 4,
 "nbformat_minor": 2
}
